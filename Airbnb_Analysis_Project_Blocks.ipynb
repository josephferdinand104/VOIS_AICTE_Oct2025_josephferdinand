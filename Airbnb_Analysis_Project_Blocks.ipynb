{
 "cells": [
  {
   "cell_type": "markdown",
   "id": "3cc4ccf1",
   "metadata": {},
   "source": [
    "# Airbnb Hotel Booking Analysis - NYC Dataset\n",
    "\n",
    "This notebook analyzes the NYC Airbnb dataset and answers the research questions (Q1–Q9)."
   ]
  },
  {
   "cell_type": "code",
   "execution_count": null,
   "id": "477bc425",
   "metadata": {},
   "outputs": [],
   "source": [
    "# Importing Libraries\n",
    "import pandas as pd\n",
    "import numpy as np\n",
    "import matplotlib.pyplot as plt\n",
    "import seaborn as sns\n",
    "from scipy.stats import pearsonr, ttest_ind"
   ]
  },
  {
   "cell_type": "code",
   "execution_count": null,
   "id": "d86e4ee6",
   "metadata": {},
   "outputs": [],
   "source": [
    "# Load the dataset\n",
    "file_path = '/content/1730285881-Airbnb_Open_Data.xlsx'\n",
    "df = pd.read_excel(file_path)\n",
    "df.head()"
   ]
  },
  {
   "cell_type": "code",
   "execution_count": null,
   "id": "50e44562",
   "metadata": {},
   "outputs": [],
   "source": [
    "# Data Cleaning\n",
    "df.columns = df.columns.str.strip().str.lower().str.replace(\" \", \"_\")\n",
    "\n",
    "# Fill missing prices, service fees, reviews with 0 where appropriate\n",
    "df['price'] = pd.to_numeric(df['price'], errors='coerce').fillna(0)\n",
    "if 'service_fee' in df.columns:\n",
    "    df['service_fee'] = pd.to_numeric(df['service_fee'], errors='coerce').fillna(0)\n",
    "if 'review_scores_rating' in df.columns:\n",
    "    df['review_scores_rating'] = pd.to_numeric(df['review_scores_rating'], errors='coerce')\n",
    "df.info()"
   ]
  },
  {
   "cell_type": "markdown",
   "id": "33d2b40c",
   "metadata": {},
   "source": [
    "### Q1: What are the different property types in the Dataset?"
   ]
  },
  {
   "cell_type": "code",
   "execution_count": null,
   "id": "6cc403ad",
   "metadata": {},
   "outputs": [],
   "source": [
    "df['room_type'].unique()"
   ]
  },
  {
   "cell_type": "markdown",
   "id": "55789ebd",
   "metadata": {},
   "source": [
    "### Q2: Which neighborhood group has the highest number of listings?"
   ]
  },
  {
   "cell_type": "code",
   "execution_count": null,
   "id": "85d8f8b0",
   "metadata": {},
   "outputs": [],
   "source": [
    "df['neighbourhood_group'].value_counts()"
   ]
  },
  {
   "cell_type": "markdown",
   "id": "ef55779e",
   "metadata": {},
   "source": [
    "### Q3: Which neighborhood group has the highest average prices for Airbnb listings?"
   ]
  },
  {
   "cell_type": "code",
   "execution_count": null,
   "id": "da5410c1",
   "metadata": {},
   "outputs": [],
   "source": [
    "df.groupby('neighbourhood_group')['price'].mean()"
   ]
  },
  {
   "cell_type": "markdown",
   "id": "ef7f1826",
   "metadata": {},
   "source": [
    "### Q4: Is there a relationship between the construction year of property and price?"
   ]
  },
  {
   "cell_type": "code",
   "execution_count": null,
   "id": "e465e48f",
   "metadata": {},
   "outputs": [],
   "source": [
    "if 'construction_year' in df.columns:\n",
    "    corr, pval = pearsonr(df['construction_year'].dropna(), df['price'].loc[df['construction_year'].notna()])\n",
    "    print(\"Correlation:\", corr, \"p-value:\", pval)\n",
    "else:\n",
    "    print(\"No construction_year column in dataset\")"
   ]
  },
  {
   "cell_type": "markdown",
   "id": "2d3dfe33",
   "metadata": {},
   "source": [
    "### Q5: Who are the top 10 hosts by calculated host listing count?"
   ]
  },
  {
   "cell_type": "code",
   "execution_count": null,
   "id": "faf72f71",
   "metadata": {},
   "outputs": [],
   "source": [
    "if 'calculated_host_listings_count' in df.columns:\n",
    "    df.groupby('host_id')['calculated_host_listings_count'].max().sort_values(ascending=False).head(10)\n",
    "else:\n",
    "    print(\"No calculated_host_listings_count column in dataset\")"
   ]
  },
  {
   "cell_type": "markdown",
   "id": "20088d29",
   "metadata": {},
   "source": [
    "### Q6: Are hosts with verified identities more likely to receive positive reviews?"
   ]
  },
  {
   "cell_type": "code",
   "execution_count": null,
   "id": "dcc623ca",
   "metadata": {},
   "outputs": [],
   "source": [
    "if 'host_identity_verified' in df.columns and 'review_scores_rating' in df.columns:\n",
    "    verified = df[df['host_identity_verified']=='t']['review_scores_rating'].dropna()\n",
    "    not_verified = df[df['host_identity_verified']=='f']['review_scores_rating'].dropna()\n",
    "    tstat, pval = ttest_ind(verified, not_verified, equal_var=False)\n",
    "    print(\"t-statistic:\", tstat, \"p-value:\", pval)\n",
    "else:\n",
    "    print(\"Required columns not available\")"
   ]
  },
  {
   "cell_type": "markdown",
   "id": "8d1c6991",
   "metadata": {},
   "source": [
    "### Q7: Is there a correlation between the price of a listing and its service fee?"
   ]
  },
  {
   "cell_type": "code",
   "execution_count": null,
   "id": "b8eb662b",
   "metadata": {},
   "outputs": [],
   "source": [
    "if 'service_fee' in df.columns:\n",
    "    corr, pval = pearsonr(df['price'], df['service_fee'])\n",
    "    print(\"Correlation:\", corr, \"p-value:\", pval)\n",
    "else:\n",
    "    print(\"No service_fee column in dataset\")"
   ]
  },
  {
   "cell_type": "markdown",
   "id": "e0653199",
   "metadata": {},
   "source": [
    "### Q8: What is the average review rate number for listings, and does it vary based on the neighborhood group and room type?"
   ]
  },
  {
   "cell_type": "code",
   "execution_count": null,
   "id": "9db3d733",
   "metadata": {},
   "outputs": [],
   "source": [
    "if 'review_scores_rating' in df.columns:\n",
    "    df.groupby(['neighbourhood_group','room_type'])['review_scores_rating'].mean()\n",
    "else:\n",
    "    print(\"No review_scores_rating column in dataset\")"
   ]
  },
  {
   "cell_type": "markdown",
   "id": "b27db55c",
   "metadata": {},
   "source": [
    "### Q9: Are hosts with a higher calculated host listings count more likely to maintain higher availability throughout the year?"
   ]
  },
  {
   "cell_type": "code",
   "execution_count": null,
   "id": "82d98e38",
   "metadata": {},
   "outputs": [],
   "source": [
    "if 'availability_365' in df.columns and 'calculated_host_listings_count' in df.columns:\n",
    "    corr, pval = pearsonr(df['calculated_host_listings_count'], df['availability_365'])\n",
    "    print(\"Correlation:\", corr, \"p-value:\", pval)\n",
    "else:\n",
    "    print(\"Required columns not available\")"
   ]
  }
 ],
 "metadata": {},
 "nbformat": 4,
 "nbformat_minor": 5
}
