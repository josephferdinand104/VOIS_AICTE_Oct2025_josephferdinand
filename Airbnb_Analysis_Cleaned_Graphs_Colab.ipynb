{
 "cells": [
  {
   "cell_type": "markdown",
   "id": "3e497e43",
   "metadata": {},
   "source": [
    "# 🏨 Airbnb Hotel Booking Analysis (New York City)\n",
    "### ✅ Cleaned & Enhanced Version (Google Colab Ready)\n",
    "\n",
    "This notebook explores Airbnb listings in New York City and extracts insights about property types, pricing, host behavior, and customer satisfaction. All column names are automatically normalized to prevent KeyErrors."
   ]
  },
  {
   "cell_type": "markdown",
   "id": "4defbb00",
   "metadata": {},
   "source": [
    "## 🪜 Step 1 — Import Libraries"
   ]
  },
  {
   "cell_type": "code",
   "execution_count": null,
   "id": "2faa8751",
   "metadata": {},
   "outputs": [],
   "source": [
    "import pandas as pd\n",
    "import numpy as np\n",
    "import matplotlib.pyplot as plt\n",
    "import seaborn as sns\n",
    "\n",
    "# Modern seaborn theme (replaces deprecated 'seaborn' style)\n",
    "sns.set_theme(style='whitegrid')\n",
    "\n",
    "print(\"✅ Libraries imported successfully!\")"
   ]
  },
  {
   "cell_type": "markdown",
   "id": "999f46c5",
   "metadata": {},
   "source": [
    "## 🪜 Step 2 — Load & Clean Dataset"
   ]
  },
  {
   "cell_type": "code",
   "execution_count": null,
   "id": "b294f7c2",
   "metadata": {},
   "outputs": [],
   "source": [
    "from google.colab import files\n",
    "\n",
    "# Upload your dataset manually in Colab if needed\n",
    "# uploaded = files.upload()\n",
    "\n",
    "file_path = '/content/1730285881-Airbnb_Open_Data.xlsx'\n",
    "df = pd.read_excel(file_path)\n",
    "\n",
    "# Normalize column names (lowercase, underscores)\n",
    "df.columns = df.columns.str.strip().str.lower().str.replace(' ', '_')\n",
    "\n",
    "print(\"✅ Dataset loaded successfully!\")\n",
    "print(\"Columns:\", df.columns.tolist())\n",
    "\n",
    "# Basic info\n",
    "df.info()\n"
   ]
  },
  {
   "cell_type": "markdown",
   "id": "28d0fe59",
   "metadata": {},
   "source": [
    "## 🧹 Step 3 — Data Cleaning"
   ]
  },
  {
   "cell_type": "code",
   "execution_count": null,
   "id": "64b6842e",
   "metadata": {},
   "outputs": [],
   "source": [
    "# Handle missing values\n",
    "missing = df.isnull().sum()\n",
    "print(\"Missing values per column:\\n\", missing[missing > 0])\n",
    "\n",
    "# Drop duplicates\n",
    "df.drop_duplicates(inplace=True)\n",
    "\n",
    "# Convert numeric columns safely\n",
    "for col in ['price', 'service_fee', 'number_of_reviews', 'review_rate_number', 'availability_365', 'construction_year']:\n",
    "    if col in df.columns:\n",
    "        df[col] = pd.to_numeric(df[col], errors='coerce')\n",
    "\n",
    "print(\"✅ Data cleaned!\")"
   ]
  },
  {
   "cell_type": "markdown",
   "id": "f26405c8",
   "metadata": {},
   "source": [
    "## ❓ Step 4 — Analysis Questions"
   ]
  },
  {
   "cell_type": "markdown",
   "id": "c3ebbfe4",
   "metadata": {},
   "source": [
    "### 1️⃣ Property Types (Bar Chart)"
   ]
  },
  {
   "cell_type": "code",
   "execution_count": null,
   "id": "87a36af1",
   "metadata": {},
   "outputs": [],
   "source": [
    "if 'room_type' in df.columns:\n",
    "    plt.figure(figsize=(6,4))\n",
    "    df['room_type'].value_counts().plot(kind='bar')\n",
    "    plt.title('Property / Room Types Distribution')\n",
    "    plt.ylabel('Count')\n",
    "    plt.show()\n",
    "else:\n",
    "    print('⚠️ Column for property or room type not found.')"
   ]
  },
  {
   "cell_type": "markdown",
   "id": "142355cb",
   "metadata": {},
   "source": [
    "### 2️⃣ Neighborhood Group with Most Listings (Bar Chart)"
   ]
  },
  {
   "cell_type": "code",
   "execution_count": null,
   "id": "fb3e4fcb",
   "metadata": {},
   "outputs": [],
   "source": [
    "if 'neighbourhood_group' in df.columns:\n",
    "    plt.figure(figsize=(6,4))\n",
    "    df['neighbourhood_group'].value_counts().plot(kind='bar', color='skyblue')\n",
    "    plt.title('Listings by Neighborhood Group')\n",
    "    plt.ylabel('Count')\n",
    "    plt.show()\n",
    "else:\n",
    "    print('⚠️ Column neighbourhood_group not found.')"
   ]
  },
  {
   "cell_type": "markdown",
   "id": "089130fd",
   "metadata": {},
   "source": [
    "### 3️⃣ Highest Average Prices by Neighborhood Group (Bar Chart)"
   ]
  },
  {
   "cell_type": "code",
   "execution_count": null,
   "id": "992b79e0",
   "metadata": {},
   "outputs": [],
   "source": [
    "if 'neighbourhood_group' in df.columns and 'price' in df.columns:\n",
    "    avg_price = df.groupby('neighbourhood_group')['price'].mean().sort_values(ascending=False)\n",
    "    plt.figure(figsize=(6,4))\n",
    "    sns.barplot(x=avg_price.index, y=avg_price.values, palette='viridis')\n",
    "    plt.title('Average Price by Neighborhood Group')\n",
    "    plt.ylabel('Average Price ($)')\n",
    "    plt.show()\n",
    "else:\n",
    "    print('⚠️ Required columns missing.')"
   ]
  },
  {
   "cell_type": "markdown",
   "id": "0f653048",
   "metadata": {},
   "source": [
    "### 4️⃣ Construction Year vs Price (Scatter Plot)"
   ]
  },
  {
   "cell_type": "code",
   "execution_count": null,
   "id": "4fa8f752",
   "metadata": {},
   "outputs": [],
   "source": [
    "if 'construction_year' in df.columns and 'price' in df.columns:\n",
    "    plt.figure(figsize=(6,4))\n",
    "    sns.scatterplot(x='construction_year', y='price', data=df, alpha=0.6)\n",
    "    plt.title('Construction Year vs Price')\n",
    "    plt.show()\n",
    "else:\n",
    "    print('⚠️ Columns construction_year or price not found.')"
   ]
  },
  {
   "cell_type": "markdown",
   "id": "91f6d8b6",
   "metadata": {},
   "source": [
    "### 5️⃣ Top 10 Hosts by Listing Count (Horizontal Bar Chart)"
   ]
  },
  {
   "cell_type": "code",
   "execution_count": null,
   "id": "acfa7670",
   "metadata": {},
   "outputs": [],
   "source": [
    "if 'host_name' in df.columns and 'calculated_host_listings_count' in df.columns:\n",
    "    top_hosts = (df.groupby('host_name')['calculated_host_listings_count']\n",
    "                 .max().sort_values(ascending=False).head(10))\n",
    "    plt.figure(figsize=(6,4))\n",
    "    top_hosts.plot(kind='barh', color='teal')\n",
    "    plt.title('Top 10 Hosts by Listing Count')\n",
    "    plt.xlabel('Listings Count')\n",
    "    plt.gca().invert_yaxis()\n",
    "    plt.show()\n",
    "else:\n",
    "    print('⚠️ Required columns missing.')"
   ]
  },
  {
   "cell_type": "markdown",
   "id": "ca5a7aca",
   "metadata": {},
   "source": [
    "### 6️⃣ Verified Hosts vs Review Ratings (Box Plot)"
   ]
  },
  {
   "cell_type": "code",
   "execution_count": null,
   "id": "4bb3a96a",
   "metadata": {},
   "outputs": [],
   "source": [
    "if 'host_identity_verified' in df.columns and 'review_rate_number' in df.columns:\n",
    "    plt.figure(figsize=(6,4))\n",
    "    sns.boxplot(x='host_identity_verified', y='review_rate_number', data=df)\n",
    "    plt.title('Verified Hosts vs Review Ratings')\n",
    "    plt.show()\n",
    "else:\n",
    "    print('⚠️ Required columns missing.')"
   ]
  },
  {
   "cell_type": "markdown",
   "id": "f74c22e5",
   "metadata": {},
   "source": [
    "### 7️⃣ Price vs Service Fee (Scatter Plot + Correlation)"
   ]
  },
  {
   "cell_type": "code",
   "execution_count": null,
   "id": "6fa0bda4",
   "metadata": {},
   "outputs": [],
   "source": [
    "if 'price' in df.columns and 'service_fee' in df.columns:\n",
    "    plt.figure(figsize=(6,4))\n",
    "    sns.scatterplot(x='service_fee', y='price', data=df, alpha=0.6)\n",
    "    corr = df[['price','service_fee']].corr().iloc[0,1]\n",
    "    plt.title(f'Price vs Service Fee (r = {corr:.2f})')\n",
    "    plt.show()\n",
    "else:\n",
    "    print('⚠️ Columns price or service_fee not found.')"
   ]
  },
  {
   "cell_type": "markdown",
   "id": "90e0a026",
   "metadata": {},
   "source": [
    "### 8️⃣ Avg Review by Neighborhood Group & Room Type (Grouped Bar Chart)"
   ]
  },
  {
   "cell_type": "code",
   "execution_count": null,
   "id": "b6bc0aeb",
   "metadata": {},
   "outputs": [],
   "source": [
    "if 'neighbourhood_group' in df.columns and 'room_type' in df.columns and 'review_rate_number' in df.columns:\n",
    "    avg_review = df.groupby(['neighbourhood_group', 'room_type'])['review_rate_number'].mean().unstack()\n",
    "    avg_review.plot(kind='bar', figsize=(8,4))\n",
    "    plt.title('Average Review Rating by Neighborhood & Room Type')\n",
    "    plt.ylabel('Average Rating')\n",
    "    plt.show()\n",
    "else:\n",
    "    print('⚠️ Required columns missing.')"
   ]
  },
  {
   "cell_type": "markdown",
   "id": "02a3dcb4",
   "metadata": {},
   "source": [
    "### 9️⃣ Host Listings vs Availability (Scatter Plot)"
   ]
  },
  {
   "cell_type": "code",
   "execution_count": null,
   "id": "1771a091",
   "metadata": {},
   "outputs": [],
   "source": [
    "if 'calculated_host_listings_count' in df.columns and 'availability_365' in df.columns:\n",
    "    plt.figure(figsize=(6,4))\n",
    "    sns.scatterplot(x='calculated_host_listings_count', y='availability_365', data=df, alpha=0.6)\n",
    "    plt.title('Host Listings Count vs Availability (365 days)')\n",
    "    plt.show()\n",
    "else:\n",
    "    print('⚠️ Required columns missing.')"
   ]
  },
  {
   "cell_type": "markdown",
   "id": "38d0f526",
   "metadata": {},
   "source": [
    "### 🔥 Correlation Heatmap"
   ]
  },
  {
   "cell_type": "code",
   "execution_count": null,
   "id": "1c5f3d32",
   "metadata": {},
   "outputs": [],
   "source": [
    "plt.figure(figsize=(8,5))\n",
    "corr = df.corr(numeric_only=True)\n",
    "sns.heatmap(corr, cmap='coolwarm', annot=True)\n",
    "plt.title('Correlation Heatmap')\n",
    "plt.show()"
   ]
  },
  {
   "cell_type": "markdown",
   "id": "d4e80dd5",
   "metadata": {},
   "source": [
    "## ✅ Conclusion\n",
    "- Manhattan tends to have the highest prices and most listings.\n",
    "- Verified hosts usually receive slightly higher ratings.\n",
    "- Price and service fee are positively correlated.\n",
    "- Hosts with many listings may not always have higher availability."
   ]
  }
 ],
 "metadata": {},
 "nbformat": 4,
 "nbformat_minor": 5
}
